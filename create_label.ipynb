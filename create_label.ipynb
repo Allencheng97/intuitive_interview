{
 "cells": [
  {
   "cell_type": "code",
   "execution_count": 1,
   "metadata": {},
   "outputs": [],
   "source": [
    "import os\n",
    "import pandas as pd\n",
    "\n",
    "os.chdir(r'dataset/training')\n",
    "\n",
    "folders = ['cat', 'bird']\n",
    "\n",
    "files = []\n",
    "\n",
    "for folder in folders:\n",
    "    for file in os.listdir(folder):\n",
    "        files.append([file, folder])\n",
    "\n",
    "pd.DataFrame(files, columns=['files', 'target']).to_csv('training_label.csv')"
   ]
  }
 ],
 "metadata": {
  "interpreter": {
   "hash": "724555fea3b2cb62a530d83bdeb7fbed86294282aa694ca5ac27b3bf7655da96"
  },
  "kernelspec": {
   "display_name": "Python 3.9.12 ('ml')",
   "language": "python",
   "name": "python3"
  },
  "language_info": {
   "codemirror_mode": {
    "name": "ipython",
    "version": 3
   },
   "file_extension": ".py",
   "mimetype": "text/x-python",
   "name": "python",
   "nbconvert_exporter": "python",
   "pygments_lexer": "ipython3",
   "version": "3.9.12"
  },
  "orig_nbformat": 4
 },
 "nbformat": 4,
 "nbformat_minor": 2
}
